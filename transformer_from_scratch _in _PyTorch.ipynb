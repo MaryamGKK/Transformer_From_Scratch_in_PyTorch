{
 "cells": [
  {
   "cell_type": "code",
   "execution_count": 1,
   "id": "572126c6",
   "metadata": {},
   "outputs": [
    {
     "name": "stderr",
     "output_type": "stream",
     "text": [
      "C:\\Users\\pc\\AppData\\Local\\Packages\\PythonSoftwareFoundation.Python.3.11_qbz5n2kfra8p0\\LocalCache\\local-packages\\Python311\\site-packages\\tqdm\\auto.py:21: TqdmWarning: IProgress not found. Please update jupyter and ipywidgets. See https://ipywidgets.readthedocs.io/en/stable/user_install.html\n",
      "  from .autonotebook import tqdm as notebook_tqdm\n"
     ]
    }
   ],
   "source": [
    "import torch\n",
    "import torch.nn as nn\n",
    "import torch.nn.functional as F\n",
    "from torch.optim import Adam\n",
    "from torch.utils.data import TensorDataset, DataLoader\n",
    "import lightning as L "
   ]
  },
  {
   "cell_type": "code",
   "execution_count": 2,
   "id": "788059df",
   "metadata": {},
   "outputs": [],
   "source": [
    "token_to_id = {\n",
    "    'what': 0,\n",
    "    'is':1,\n",
    "    'coffee':2,\n",
    "    'awesome':3,\n",
    "    '<EOS>':4\n",
    "}\n",
    "id_to_token = dict(map(reversed, token_to_id.items()))"
   ]
  },
  {
   "cell_type": "code",
   "execution_count": 3,
   "id": "6353cbc5",
   "metadata": {},
   "outputs": [],
   "source": [
    "inputs = torch.tensor(\n",
    "    [[token_to_id['what'],\n",
    "      token_to_id['is'],\n",
    "      token_to_id['coffee'],\n",
    "      token_to_id['<EOS>'],\n",
    "      token_to_id['awesome']],\n",
    "\n",
    "      [token_to_id['coffee'],\n",
    "       token_to_id['is'],\n",
    "       token_to_id['what'],\n",
    "       token_to_id['<EOS>'],\n",
    "       token_to_id['awesome']\n",
    "      ]]\n",
    ")\n",
    "\n",
    "labels = torch.tensor(\n",
    "    [[token_to_id['is'],\n",
    "      token_to_id['coffee'],\n",
    "      token_to_id['<EOS>'],\n",
    "      token_to_id['awesome'],\n",
    "      token_to_id['<EOS>']],\n",
    "\n",
    "      [token_to_id['is'],\n",
    "       token_to_id['what'],\n",
    "       token_to_id['<EOS>'],\n",
    "       token_to_id['awesome'],\n",
    "       token_to_id['<EOS>']\n",
    "      ]]\n",
    ")\n",
    "\n",
    "dataset = TensorDataset(inputs, labels)\n",
    "dataloader = DataLoader(dataset)"
   ]
  },
  {
   "cell_type": "code",
   "execution_count": 4,
   "id": "6abf6ee5",
   "metadata": {},
   "outputs": [],
   "source": [
    "class PositionEncoding(nn.Module):\n",
    "    def __init__(self, d_model = 2, max_len = 6):\n",
    "        super().__init__()\n",
    "\n",
    "        pe = torch.zeros(max_len, d_model) # 6*2\n",
    "        position = torch.arange(start=0, end=max_len, step=1).float().unsqueeze(1)\n",
    "        embedding_index = torch.arange(start=0, end=d_model, step=2).float()\n",
    "\n",
    "        div_term = 1/torch.tensor(10000.0)**(embedding_index/d_model)\n",
    "\n",
    "        pe[:, 0::2] = torch.sin(position*div_term)\n",
    "        pe[:, 1::2] = torch.cos(position*div_term)\n",
    "\n",
    "        self.register_buffer('pe', pe)\n",
    "    \n",
    "    def forward(self, word_embeddings):\n",
    "        return word_embeddings + self.pe[:word_embeddings.size(0), :]"
   ]
  },
  {
   "cell_type": "code",
   "execution_count": 5,
   "id": "e1ea4173",
   "metadata": {},
   "outputs": [],
   "source": [
    "class Attention(nn.Module):\n",
    "    def __init__(self, d_model = 2):\n",
    "        super().__init__()\n",
    "\n",
    "        self.W_q = nn.Linear(in_features = d_model, out_features = d_model, bias = False)\n",
    "        self.W_k = nn.Linear(in_features = d_model, out_features = d_model, bias = False)\n",
    "        self.W_v = nn.Linear(in_features = d_model, out_features = d_model, bias = False)\n",
    "\n",
    "        self.row_dim = 0\n",
    "        self.col_dim = 1\n",
    "    \n",
    "    def forward(self, encodings_for_q, encodings_for_k, encodings_for_v, mask = None):\n",
    "        q = self.W_q(encodings_for_q)\n",
    "        k = self.W_k(encodings_for_k)\n",
    "        v = self.W_v(encodings_for_v)\n",
    "\n",
    "        sims = torch.matmul(q, k.transpose(dim0 = self.row_dim, dim1 = self.col_dim))\n",
    "        scaled_sims = sims / torch.tensor(k.size(self.col_dim)**0.5)\n",
    "\n",
    "        if mask is not None:\n",
    "            scaled_sims = scaled_sims.masked_fill(mask=mask.to(scaled_sims.device), value=-1e9)\n",
    "        \n",
    "        \n",
    "        attention_percents = F.softmax(scaled_sims, dim = self.col_dim)\n",
    "        attention_scores = torch.matmul(attention_percents, v)\n",
    "\n",
    "        return attention_scores\n"
   ]
  },
  {
   "cell_type": "code",
   "execution_count": 6,
   "id": "f32ccf5e",
   "metadata": {},
   "outputs": [],
   "source": [
    "class DecoderOnlyTransformer(L.LightningModule):\n",
    "    def __init__(self, num_tokens = 4, d_model = 2, max_len = 6):\n",
    "        super().__init__()\n",
    "        \n",
    "        self.we = nn.Embedding(num_embeddings = num_tokens, embedding_dim = 2)\n",
    "\n",
    "        self.pe = PositionEncoding(d_model = d_model, max_len = 6)\n",
    "\n",
    "        self.self_attention = Attention(d_model = 2)\n",
    "        self.fc_layer = nn.Linear(in_features=d_model, out_features=num_tokens)\n",
    "\n",
    "        self.loss = nn.CrossEntropyLoss()\n",
    "    \n",
    "    def forward(self, token_ids):\n",
    "\n",
    "        word_embeddings = self.we(token_ids)\n",
    "        position_encoded = self.pe(word_embeddings)\n",
    "        \n",
    "        mask = torch.tril(torch.ones(token_ids.size(dim=0), token_ids.size(dim=0)))\n",
    "        mask = mask == 0\n",
    "        \n",
    "\n",
    "        self_attention_values = self.self_attention(\n",
    "            position_encoded,\n",
    "            position_encoded,\n",
    "            position_encoded,\n",
    "            mask = mask\n",
    "        )\n",
    "\n",
    "        residual_connection_values = position_encoded + self_attention_values\n",
    "\n",
    "        fc_layer_output = self.fc_layer(residual_connection_values)\n",
    "\n",
    "        return fc_layer_output\n",
    "    \n",
    "    def configure_optimizers(self):\n",
    "        return Adam(self.parameters(), lr=0.1)\n",
    "    \n",
    "    def training_step(self, batch, batch_idx):\n",
    "        input_tokens, labels = batch\n",
    "        output = self.forward(input_tokens[0])\n",
    "        loss = self.loss(output, labels[0])\n",
    "\n",
    "        return loss\n"
   ]
  },
  {
   "cell_type": "markdown",
   "id": "3e91cb56",
   "metadata": {},
   "source": [
    "#### Forward pass before training"
   ]
  },
  {
   "cell_type": "code",
   "execution_count": 7,
   "id": "2c275c17",
   "metadata": {},
   "outputs": [
    {
     "name": "stdout",
     "output_type": "stream",
     "text": [
      "Predicted Tokens:\n",
      "\t is\n",
      "\t is\n",
      "\t what\n"
     ]
    }
   ],
   "source": [
    "model = DecoderOnlyTransformer(num_tokens = len(token_to_id), d_model = 2, max_len = 6)\n",
    "\n",
    "model_input = torch.tensor(\n",
    "    [token_to_id['what'],\n",
    "      token_to_id['is'],\n",
    "      token_to_id['coffee'],\n",
    "      token_to_id['<EOS>']])\n",
    "\n",
    "input_length = model_input.size(dim = 0)\n",
    "predictions = model(model_input)\n",
    "predicted_id = torch.tensor([torch.argmax(predictions[-1, :])])\n",
    "predicted_ids = predicted_id\n",
    "\n",
    "max_length = 6\n",
    "for i in range(input_length, max_length):\n",
    "    if (predicted_id == token_to_id['<EOS>']):\n",
    "        break\n",
    "    model_input = torch.cat((model_input, predicted_id))\n",
    "\n",
    "    predictions = model(model_input)\n",
    "    predicted_id = torch.tensor([torch.argmax(predictions[-1, :])])\n",
    "    predicted_ids = torch.cat((predicted_ids, predicted_id))\n",
    " \n",
    "print(\"Predicted Tokens:\")\n",
    "for id in predicted_ids:\n",
    "    print(\"\\t\", id_to_token[id.item()])"
   ]
  },
  {
   "cell_type": "code",
   "execution_count": 8,
   "id": "4eacff31",
   "metadata": {},
   "outputs": [
    {
     "name": "stderr",
     "output_type": "stream",
     "text": [
      "Using default `ModelCheckpoint`. Consider installing `litmodels` package to enable `LitModelCheckpoint` for automatic upload to the Lightning model registry.\n",
      "GPU available: True (cuda), used: True\n",
      "TPU available: False, using: 0 TPU cores\n",
      "HPU available: False, using: 0 HPUs\n",
      "C:\\Users\\pc\\AppData\\Local\\Packages\\PythonSoftwareFoundation.Python.3.11_qbz5n2kfra8p0\\LocalCache\\local-packages\\Python311\\site-packages\\lightning\\pytorch\\trainer\\connectors\\logger_connector\\logger_connector.py:76: Starting from v1.9.0, `tensorboardX` has been removed as a dependency of the `lightning.pytorch` package, due to potential conflicts with other packages in the ML ecosystem. For this reason, `logger=True` will use `CSVLogger` as the default logger, unless the `tensorboard` or `tensorboardX` packages are found. Please `pip install lightning[extra]` or one of them to enable TensorBoard support by default\n",
      "You are using a CUDA device ('NVIDIA GeForce RTX 2050') that has Tensor Cores. To properly utilize them, you should set `torch.set_float32_matmul_precision('medium' | 'high')` which will trade-off precision for performance. For more details, read https://pytorch.org/docs/stable/generated/torch.set_float32_matmul_precision.html#torch.set_float32_matmul_precision\n",
      "LOCAL_RANK: 0 - CUDA_VISIBLE_DEVICES: [0]\n",
      "\n",
      "  | Name           | Type             | Params | Mode \n",
      "------------------------------------------------------------\n",
      "0 | we             | Embedding        | 10     | train\n",
      "1 | pe             | PositionEncoding | 0      | train\n",
      "2 | self_attention | Attention        | 12     | train\n",
      "3 | fc_layer       | Linear           | 15     | train\n",
      "4 | loss           | CrossEntropyLoss | 0      | train\n",
      "------------------------------------------------------------\n",
      "37        Trainable params\n",
      "0         Non-trainable params\n",
      "37        Total params\n",
      "0.000     Total estimated model params size (MB)\n",
      "8         Modules in train mode\n",
      "0         Modules in eval mode\n",
      "C:\\Users\\pc\\AppData\\Local\\Packages\\PythonSoftwareFoundation.Python.3.11_qbz5n2kfra8p0\\LocalCache\\local-packages\\Python311\\site-packages\\lightning\\pytorch\\trainer\\connectors\\data_connector.py:425: The 'train_dataloader' does not have many workers which may be a bottleneck. Consider increasing the value of the `num_workers` argument` to `num_workers=11` in the `DataLoader` to improve performance.\n",
      "C:\\Users\\pc\\AppData\\Local\\Packages\\PythonSoftwareFoundation.Python.3.11_qbz5n2kfra8p0\\LocalCache\\local-packages\\Python311\\site-packages\\lightning\\pytorch\\loops\\fit_loop.py:310: The number of training batches (2) is smaller than the logging interval Trainer(log_every_n_steps=50). Set a lower value for log_every_n_steps if you want to see logs for the training epoch.\n"
     ]
    },
    {
     "name": "stdout",
     "output_type": "stream",
     "text": [
      "Epoch 29: 100%|██████████| 2/2 [00:00<00:00, 154.06it/s, v_num=11]"
     ]
    },
    {
     "name": "stderr",
     "output_type": "stream",
     "text": [
      "`Trainer.fit` stopped: `max_epochs=30` reached.\n"
     ]
    },
    {
     "name": "stdout",
     "output_type": "stream",
     "text": [
      "Epoch 29: 100%|██████████| 2/2 [00:00<00:00, 98.07it/s, v_num=11] \n"
     ]
    }
   ],
   "source": [
    "trainer = L.Trainer(max_epochs=30)\n",
    "trainer.fit(model, train_dataloaders=dataloader)"
   ]
  },
  {
   "cell_type": "code",
   "execution_count": 9,
   "id": "1be2c25e",
   "metadata": {},
   "outputs": [
    {
     "name": "stdout",
     "output_type": "stream",
     "text": [
      "Predicted Tokens:\n",
      "\t awesome\n",
      "\t <EOS>\n"
     ]
    }
   ],
   "source": [
    "model_input = torch.tensor(\n",
    "    [token_to_id['what'],\n",
    "      token_to_id['is'],\n",
    "      token_to_id['coffee'],\n",
    "      token_to_id['<EOS>']])\n",
    "\n",
    "input_length = model_input.size(dim = 0)\n",
    "predictions = model(model_input)\n",
    "predicted_id = torch.tensor([torch.argmax(predictions[-1, :])])\n",
    "predicted_ids = predicted_id\n",
    "\n",
    "max_length = 6\n",
    "for i in range(input_length, max_length):\n",
    "    if (predicted_id == token_to_id['<EOS>']):\n",
    "        break\n",
    "    model_input = torch.cat((model_input, predicted_id))\n",
    "\n",
    "    predictions = model(model_input)\n",
    "    predicted_id = torch.tensor([torch.argmax(predictions[-1, :])])\n",
    "    predicted_ids = torch.cat((predicted_ids, predicted_id))\n",
    " \n",
    "print(\"Predicted Tokens:\")\n",
    "for id in predicted_ids:\n",
    "    print(\"\\t\", id_to_token[id.item()])"
   ]
  }
 ],
 "metadata": {
  "kernelspec": {
   "display_name": "Python 3",
   "language": "python",
   "name": "python3"
  },
  "language_info": {
   "codemirror_mode": {
    "name": "ipython",
    "version": 3
   },
   "file_extension": ".py",
   "mimetype": "text/x-python",
   "name": "python",
   "nbconvert_exporter": "python",
   "pygments_lexer": "ipython3",
   "version": "3.11.9"
  }
 },
 "nbformat": 4,
 "nbformat_minor": 5
}
